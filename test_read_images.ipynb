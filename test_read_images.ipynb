{
 "cells": [
  {
   "cell_type": "code",
   "execution_count": 2,
   "metadata": {
    "collapsed": false
   },
   "outputs": [],
   "source": [
    "import struct\n",
    "from PIL import Image\n",
    "from matplotlib.pyplot import imshow\n",
    "import matplotlib.pyplot as plt\n",
    "import numpy as np\n",
    "%matplotlib inline\n",
    " \n",
    "# for auto-reloading external modules\n",
    "# see http://stackoverflow.com/questions/1907993/autoreload-of-modules-in-ipython\n",
    "%load_ext autoreload\n",
    "%autoreload 2\n",
    "\n",
    "from preprocessing.data_utils import get_ETL8B_data"
   ]
  },
  {
   "cell_type": "code",
   "execution_count": 219,
   "metadata": {
    "collapsed": false
   },
   "outputs": [],
   "source": [
    "W, H = 64, 64\n",
    "new_img = Image.new('1', (W, H))\n",
    "\n",
    "id_category = 0\n",
    "dataset = 1\n",
    "filename = '../ETLC/ETL8B/ETL8B2C'+str(dataset)\n",
    "\n",
    "X = []\n",
    "Y = []\n",
    "with open(filename, 'r') as f:\n",
    "    f.seek((id_category * 160 + 1) * 512)\n",
    "    for i in range(160):\n",
    "        try:\n",
    "            r = read_record_ETL8B2(f)\n",
    "            new_img.paste(r[-1], (0,0))    \n",
    "            iI = Image.eval(new_img, lambda x: not x)\n",
    "\n",
    "            X.append(np.asarray(new_img.getdata()).reshape(W,H))\n",
    "            Y.append(r[1])\n",
    "        except:\n",
    "            break"
   ]
  },
  {
   "cell_type": "code",
   "execution_count": 224,
   "metadata": {
    "collapsed": false
   },
   "outputs": [
    {
     "data": {
      "text/plain": [
       "array([[0, 0, 0, ..., 0, 0, 0],\n",
       "       [0, 0, 0, ..., 0, 0, 0],\n",
       "       [0, 0, 0, ..., 0, 0, 0],\n",
       "       ..., \n",
       "       [0, 0, 0, ..., 0, 0, 0],\n",
       "       [0, 0, 0, ..., 0, 0, 0],\n",
       "       [0, 0, 0, ..., 0, 0, 0]])"
      ]
     },
     "execution_count": 224,
     "metadata": {},
     "output_type": "execute_result"
    }
   ],
   "source": [
    "new_img.thumbnail((32,32), Image.ANTIALIAS)\n",
    "new_img\n",
    "np.asarray(new_img.getdata()).reshape(32,32)"
   ]
  },
  {
   "cell_type": "code",
   "execution_count": 367,
   "metadata": {
    "collapsed": false
   },
   "outputs": [
    {
     "data": {
      "text/plain": [
       "<matplotlib.image.AxesImage at 0x1736a3150>"
      ]
     },
     "execution_count": 367,
     "metadata": {},
     "output_type": "execute_result"
    },
    {
     "data": {
      "image/png": "[encoded data removed]",
      "text/plain": [
       "<matplotlib.figure.Figure at 0x182ce9450>"
      ]
     },
     "metadata": {},
     "output_type": "display_data"
    }
   ],
   "source": [
    "# 1+51200 records\n",
    "# 320 categories\n",
    "# 160 writers per category\n",
    "# X_small, Y_small = get_ETL8B_data(1, 10, 20, resize=(32,32))\n",
    "X_small, Y_small = get_ETL8B_data(1, range(0,75), 1)\n",
    "imshow(X_small[3])"
   ]
  },
  {
   "cell_type": "code",
   "execution_count": 3,
   "metadata": {
    "collapsed": true
   },
   "outputs": [],
   "source": [
    "from sklearn import datasets, metrics, cross_validation\n",
    "import skflow\n",
    "import tensorflow as tf"
   ]
  },
  {
   "cell_type": "code",
   "execution_count": 10,
   "metadata": {
    "collapsed": false
   },
   "outputs": [],
   "source": [
    "# Load dataset.\n",
    "# Hiragana data set with subset of writers\n",
    "characters, labels = get_ETL8B_data(1, range(0,75), 30, vectorize=True, resize=(28,28))\n",
    "\n",
    "# rename labels from 0 to n_labels-1\n",
    "unique_labels = list(set(labels))\n",
    "labels_dict = {unique_labels[i]:i for i in range(len(unique_labels))}\n",
    "new_labels = np.array([labels_dict[l] for l in labels], dtype=np.int32)\n",
    "\n",
    "X_train, X_test, y_train, y_test = cross_validation.train_test_split(characters,\n",
    "                                                                     new_labels,\n",
    "                                                                     test_size=0.3,\n",
    "                                                                     random_state=42)"
   ]
  },
  {
   "cell_type": "code",
   "execution_count": 11,
   "metadata": {
    "collapsed": false,
    "scrolled": true
   },
   "outputs": [
    {
     "name": "stdout",
     "output_type": "stream",
     "text": [
      "<type 'numpy.int32'> <type 'numpy.int32'>\n",
      "(1575, 784) (1575,)\n"
     ]
    }
   ],
   "source": [
    "# confirm data type and shapes\n",
    "print type(X_train[0,0]), type(y_train[0])\n",
    "print X_train.shape, y_train.shape"
   ]
  },
  {
   "cell_type": "code",
   "execution_count": 12,
   "metadata": {
    "collapsed": false
   },
   "outputs": [
    {
     "name": "stdout",
     "output_type": "stream",
     "text": [
      "Step #1, avg. loss: 80.13940\n",
      "Step #501, epoch #10, avg. loss: 4.07014\n",
      "Step #1001, epoch #20, avg. loss: 0.86775\n",
      "Step #1501, epoch #30, avg. loss: 0.67417\n",
      "Step #2001, epoch #40, avg. loss: 0.59842\n",
      "Step #2501, epoch #50, avg. loss: 0.56344\n",
      "Step #3001, epoch #60, avg. loss: 0.52626\n",
      "Step #3501, epoch #70, avg. loss: 0.51225\n",
      "Step #4001, epoch #80, avg. loss: 0.43648\n",
      "Step #4501, epoch #90, avg. loss: 0.43179\n",
      "Accuracy: 0.970794\n"
     ]
    }
   ],
   "source": [
    "# Start with a DNN and try to overfit\n",
    "n_classes = len(set(labels))\n",
    "classifier = skflow.TensorFlowDNNClassifier(hidden_units=[500,500,500],\n",
    "                                            n_classes=n_classes,\n",
    "                                            steps=5000)\n",
    "\n",
    "# Fit and predict.\n",
    "classifier.fit(X_train, y_train)\n",
    "y_pred = classifier.predict(X_train)\n",
    "score = metrics.accuracy_score(y_train, y_pred)\n",
    "print('Accuracy: {0:f}'.format(score))"
   ]
  },
  {
   "cell_type": "code",
   "execution_count": 13,
   "metadata": {
    "collapsed": false
   },
   "outputs": [
    {
     "name": "stdout",
     "output_type": "stream",
     "text": [
      "Accuracy: 0.303704\n"
     ]
    }
   ],
   "source": [
    "y_pred = classifier.predict(X_test)\n",
    "score = metrics.accuracy_score(y_test, y_pred)\n",
    "print('Accuracy: {0:f}'.format(score))"
   ]
  },
  {
   "cell_type": "code",
   "execution_count": 11,
   "metadata": {
    "collapsed": true
   },
   "outputs": [],
   "source": [
    "def max_pool_2x2(tensor_in):\n",
    "    return tf.nn.max_pool(tensor_in,\n",
    "                          ksize=[1, 2, 2, 1],\n",
    "                          strides=[1, 2, 2, 1],\n",
    "                          padding='SAME')\n",
    "\n",
    "def conv_model(X, y):\n",
    "    # reshape X to 4d tensor with 2nd and 3rd dimensions being image width and height\n",
    "    # final dimension being the number of color channels\n",
    "    X = tf.reshape(X, [-1, 28, 28, 1])\n",
    "    # first conv layer will compute 32 features for each 5x5 patch\n",
    "    with tf.variable_scope('conv_layer1'):\n",
    "        h_conv1 = skflow.ops.conv2d(X, n_filters=32, filter_shape=[5, 5], \n",
    "                                    bias=True, activation=tf.nn.relu)\n",
    "        h_pool1 = max_pool_2x2(h_conv1)\n",
    "    # second conv layer will compute 64 features for each 5x5 patch\n",
    "    with tf.variable_scope('conv_layer2'):\n",
    "        h_conv2 = skflow.ops.conv2d(h_pool1, n_filters=64, filter_shape=[5, 5], \n",
    "                                    bias=True, activation=tf.nn.relu)\n",
    "        h_pool2 = max_pool_2x2(h_conv2)\n",
    "        # reshape tensor into a batch of vectors\n",
    "        h_pool2_flat = tf.reshape(h_pool2, [-1, 7 * 7 * 64])\n",
    "    # densely connected layer with 1024 neurons\n",
    "    h_fc1 = skflow.ops.dnn(h_pool2_flat, [1024], activation=tf.nn.relu, keep_prob=0.5)\n",
    "    return skflow.models.logistic_regression(h_fc1, y)"
   ]
  },
  {
   "cell_type": "code",
   "execution_count": 13,
   "metadata": {
    "collapsed": false
   },
   "outputs": [
    {
     "name": "stdout",
     "output_type": "stream",
     "text": [
      "Step #1, avg. loss: 205.85765\n",
      "Step #21, epoch #1, avg. loss: 196.51471\n",
      "Step #41, epoch #3, avg. loss: 151.45715\n",
      "Step #61, epoch #5, avg. loss: 123.10767\n",
      "Step #81, epoch #7, avg. loss: 101.42400\n",
      "Step #101, epoch #9, avg. loss: 82.23667\n",
      "Step #121, epoch #11, avg. loss: 68.80660\n",
      "Step #141, epoch #12, avg. loss: 60.12611\n",
      "Step #161, epoch #14, avg. loss: 51.49200\n",
      "Step #181, epoch #16, avg. loss: 45.77184\n",
      "Accuracy: 0.028889\n"
     ]
    }
   ],
   "source": [
    "# Training and predicting\n",
    "n_classes = len(set(labels))\n",
    "classifier = skflow.TensorFlowEstimator(model_fn=conv_model,\n",
    "                                        n_classes=n_classes,\n",
    "                                        batch_size=100,\n",
    "                                        steps=200,\n",
    "                                        learning_rate=0.001)\n",
    "# Fit and predict.\n",
    "classifier.fit(X_train, y_train)\n",
    "y_pred = classifier.predict(X_test)\n",
    "score = metrics.accuracy_score(y_test, y_pred)\n",
    "print('Accuracy: {0:f}'.format(score))"
   ]
  },
  {
   "cell_type": "code",
   "execution_count": null,
   "metadata": {
    "collapsed": true
   },
   "outputs": [],
   "source": []
  }
 ],
 "metadata": {
  "kernelspec": {
   "display_name": "Python 2",
   "language": "python",
   "name": "python2"
  },
  "language_info": {
   "codemirror_mode": {
    "name": "ipython",
    "version": 2
   },
   "file_extension": ".py",
   "mimetype": "text/x-python",
   "name": "python",
   "nbconvert_exporter": "python",
   "pygments_lexer": "ipython2",
   "version": "2.7.11"
  }
 },
 "nbformat": 4,
 "nbformat_minor": 0
}
