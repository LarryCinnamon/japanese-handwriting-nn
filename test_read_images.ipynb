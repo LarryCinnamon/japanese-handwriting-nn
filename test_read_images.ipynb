{
 "cells": [
  {
   "cell_type": "code",
   "execution_count": 1,
   "metadata": {
    "collapsed": false
   },
   "outputs": [],
   "source": [
    "import struct\n",
    "from PIL import Image, ImageEnhance\n",
    "from matplotlib.pyplot import imshow\n",
    "import matplotlib.pyplot as plt\n",
    "import numpy as np\n",
    "from sklearn import datasets, metrics, cross_validation\n",
    "import skflow\n",
    "import tensorflow as tf\n",
    "%matplotlib inline\n",
    " \n",
    "# for auto-reloading external modules\n",
    "# see http://stackoverflow.com/questions/1907993/autoreload-of-modules-in-ipython\n",
    "%load_ext autoreload\n",
    "%autoreload 2\n",
    "\n",
    "from preprocessing.data_utils import get_ETL8B_data"
   ]
  },
  {
   "cell_type": "code",
   "execution_count": 2,
   "metadata": {
    "collapsed": false
   },
   "outputs": [],
   "source": [
    "W, H = 64, 64\n",
    "new_img = Image.new('1', (W, H))\n",
    "\n",
    "id_category = 0\n",
    "dataset = 1\n",
    "filename = 'ETLC/ETL8B/ETL8B2C'+str(dataset)\n",
    "\n",
    "X = []\n",
    "Y = []\n",
    "with open(filename, 'r') as f:\n",
    "    f.seek((id_category * 160 + 1) * 512)\n",
    "    for i in range(160):\n",
    "        try:\n",
    "            r = read_record_ETL8B2(f)\n",
    "            new_img.paste(r[-1], (0,0))    \n",
    "            iI = Image.eval(new_img, lambda x: not x)\n",
    "\n",
    "            X.append(np.asarray(new_img.getdata()).reshape(W,H))\n",
    "            Y.append(r[1])\n",
    "        except:\n",
    "            break"
   ]
  },
  {
   "cell_type": "code",
   "execution_count": 40,
   "metadata": {
    "collapsed": false,
    "scrolled": true
   },
   "outputs": [
    {
     "data": {
      "image/png": "[encoded data removed]",
      "text/plain": [
       "<PIL.Image.Image image mode=1 size=448x192 at 0x117CAAC10>"
      ]
     },
     "execution_count": 40,
     "metadata": {},
     "output_type": "execute_result"
    }
   ],
   "source": [
    "nsamples = 7\n",
    "characters_picture, labels_picture = get_ETL8B_data(1, range(0,nsamples,1), 1, \n",
    "                                                    starting_writer=1,\n",
    "                                                    img_format=True)\n",
    "          \n",
    "chars, labs2 = get_ETL8B_data('07', range(0,nsamples), 1,\n",
    "                             database='ETL1C',\n",
    "                             starting_writer=700,\n",
    "                             img_format=True)\n",
    "for char in chars:\n",
    "    characters_picture += [char]\n",
    "\n",
    "\n",
    "chars, labs = get_ETL8B_data(1, np.arange(75,400,7), 1,\n",
    "                             starting_writer=40,\n",
    "                             img_format=True)\n",
    "for char in chars:\n",
    "    characters_picture += [char]\n",
    "\n",
    "figure = Image.new('1', (64*nsamples, 64*3))\n",
    "for i, picture in enumerate(characters_picture):\n",
    "    figure.paste(picture, (64*(i%nsamples), 64*(i/nsamples)))\n",
    "\n",
    "figure.save('milestone_report/figure1.png', 'PNG')\n",
    "figure"
   ]
  },
  {
   "cell_type": "code",
   "execution_count": 223,
   "metadata": {
    "collapsed": false
   },
   "outputs": [
    {
     "data": {
      "image/png": "[encoded data removed]",
      "text/plain": [
       "<PIL.Image.Image image mode=1 size=320x192 at 0x1186E5D50>"
      ]
     },
     "execution_count": 223,
     "metadata": {},
     "output_type": "execute_result"
    }
   ],
   "source": [
    "nsamples = 5\n",
    "characters_picture, labels_picture = get_ETL8B_data(1, [70], nsamples, \n",
    "                                                    starting_writer=1,\n",
    "                                                    img_format=True)\n",
    "chars, labs2 = get_ETL8B_data('11', [8], nsamples,\n",
    "                             database='ETL1C',\n",
    "                             starting_writer=0,\n",
    "                             img_format=True)\n",
    "for char in chars:\n",
    "    characters_picture += [char]\n",
    "    \n",
    "chars, labs = get_ETL8B_data(2, [31], nsamples,\n",
    "                         starting_writer=1,\n",
    "                         img_format=True)\n",
    "for char in chars:\n",
    "    characters_picture += [char]\n",
    "\n",
    "figure = Image.new('1', (64*nsamples, 64*3))\n",
    "for i, picture in enumerate(characters_picture):\n",
    "    figure.paste(picture, (64*(i%nsamples), 64*(i/nsamples)))\n",
    "\n",
    "figure.save('milestone_report/figure2.png', 'PNG')\n",
    "figure"
   ]
  },
  {
   "cell_type": "code",
   "execution_count": 213,
   "metadata": {
    "collapsed": false,
    "scrolled": true
   },
   "outputs": [
    {
     "data": {
      "text/plain": [
       "[221, 221]"
      ]
     },
     "execution_count": 213,
     "metadata": {},
     "output_type": "execute_result"
    }
   ],
   "source": [
    "labs2"
   ]
  },
  {
   "cell_type": "code",
   "execution_count": 213,
   "metadata": {
    "collapsed": false
   },
   "outputs": [
    {
     "data": {
      "image/png": "[encoded data removed]",
      "text/plain": [
       "<PIL.Image.Image image mode=1 size=64x64 at 0x119836590>"
      ]
     },
     "execution_count": 213,
     "metadata": {},
     "output_type": "execute_result"
    }
   ],
   "source": [
    "characters_picture[6]"
   ]
  },
  {
   "cell_type": "code",
   "execution_count": 192,
   "metadata": {
    "collapsed": false
   },
   "outputs": [
    {
     "data": {
      "image/png": "[encoded data removed]",
      "text/plain": [
       "<PIL.Image.Image image mode=P size=64x63 at 0x1118FF510>"
      ]
     },
     "execution_count": 192,
     "metadata": {},
     "output_type": "execute_result"
    }
   ],
   "source": [
    "import PIL.ImageOps    \n",
    "import cv2\n",
    "# Katakana ETL1C_07 through 13\n",
    "filename = 'ETLC/ETL1/ETL1C_07'\n",
    "id_category = 2\n",
    "with open(filename, 'r') as f:\n",
    "    f.seek((id_category * 1410 + 1) * 2052)\n",
    "    s = f.read(2052)\n",
    "    r = struct.unpack('>H2sH6BI4H4B4x2016s4x', s)\n",
    "    iF = Image.frombytes('F', (64, 63), r[18], 'bit', 4)\n",
    "    iP = iF.convert('P')\n",
    "#     fn = \"{:1d}{:4d}{:2x}.png\".format(r[0], r[2], r[3])\n",
    "    # iP.save(fn, 'PNG', bits=4)\n",
    "    enhancer = ImageEnhance.Brightness(iP)\n",
    "    iE = enhancer.enhance(16)\n",
    "    \n",
    "#     iE.save(fn, 'PNG')\n",
    "iE"
   ]
  },
  {
   "cell_type": "code",
   "execution_count": null,
   "metadata": {
    "collapsed": true
   },
   "outputs": [],
   "source": [
    "filename = 'ETL8G/ETL8G_01'\n",
    "id_dataset = 0\n",
    "new_img = Image.new('L', (128*23, 128*30))\n",
    "\n",
    "with open(filename, 'r') as f:\n",
    "    f.seek(id_dataset * 956 * sz_)"
   ]
  },
  {
   "cell_type": "code",
   "execution_count": 224,
   "metadata": {
    "collapsed": false
   },
   "outputs": [
    {
     "data": {
      "text/plain": [
       "array([[0, 0, 0, ..., 0, 0, 0],\n",
       "       [0, 0, 0, ..., 0, 0, 0],\n",
       "       [0, 0, 0, ..., 0, 0, 0],\n",
       "       ..., \n",
       "       [0, 0, 0, ..., 0, 0, 0],\n",
       "       [0, 0, 0, ..., 0, 0, 0],\n",
       "       [0, 0, 0, ..., 0, 0, 0]])"
      ]
     },
     "execution_count": 224,
     "metadata": {},
     "output_type": "execute_result"
    }
   ],
   "source": [
    "new_img.thumbnail((32,32), Image.ANTIALIAS)\n",
    "new_img\n",
    "np.asarray(new_img.getdata()).reshape(32,32)"
   ]
  },
  {
   "cell_type": "code",
   "execution_count": 16,
   "metadata": {
    "collapsed": false
   },
   "outputs": [
    {
     "data": {
      "text/plain": [
       "<matplotlib.image.AxesImage at 0x1117038d0>"
      ]
     },
     "execution_count": 16,
     "metadata": {},
     "output_type": "execute_result"
    },
    {
     "data": {
      "image/png": "[encoded data removed]",
      "text/plain": [
       "<matplotlib.figure.Figure at 0x1112f4150>"
      ]
     },
     "metadata": {},
     "output_type": "display_data"
    }
   ],
   "source": [
    "# 1+51200 records\n",
    "# 320 categories\n",
    "# 160 writers per category\n",
    "# X_small, Y_small = get_ETL8B_data(1, 10, 20, resize=(32,32))\n",
    "X_small, Y_small = get_ETL8B_data(1, range(0,75), 1)\n",
    "imshow(-X_small[3])"
   ]
  },
  {
   "cell_type": "code",
   "execution_count": 168,
   "metadata": {
    "collapsed": false
   },
   "outputs": [],
   "source": [
    "# Load dataset.\n",
    "# Hiragana data set with subset of writers\n",
    "characters, labels = get_ETL8B_data(1, range(0,300), 160, vectorize=True, resize=(28,28))\n",
    "\n",
    "for dataset in range(7,14):\n",
    "    if dataset < 10:\n",
    "        dataset = '0'+str(dataset)\n",
    "    chars, labs = get_ETL8B_data(dataset, range(0,8), 160, database='ETL1C', vectorize=True, resize=(28,28))\n",
    "    \n",
    "    characters = np.concatenate((characters,chars), axis=0)\n",
    "    labels = np.concatenate((labels,labs), axis=0)\n",
    "\n",
    "# rename labels from 0 to n_labels-1\n",
    "unique_labels = list(set(labels))\n",
    "labels_dict = {unique_labels[i]:i for i in range(len(unique_labels))}\n",
    "new_labels = np.array([labels_dict[l] for l in labels], dtype=np.int32)\n",
    "\n",
    "from sklearn.utils import shuffle\n",
    "characters_shuffle, new_labels_shuffle = shuffle(characters, new_labels, random_state=0)\n",
    "\n",
    "X_train, X_test, y_train, y_test = cross_validation.train_test_split(characters_shuffle,\n",
    "                                                                     new_labels_shuffle,\n",
    "                                                                     test_size=0.3,\n",
    "                                                                     random_state=42)"
   ]
  },
  {
   "cell_type": "code",
   "execution_count": 169,
   "metadata": {
    "collapsed": false,
    "scrolled": true
   },
   "outputs": [
    {
     "name": "stdout",
     "output_type": "stream",
     "text": [
      "(56162, 784)\n",
      "<type 'numpy.int32'> <type 'numpy.int32'>\n",
      "(39313, 784) (39313,)\n"
     ]
    }
   ],
   "source": [
    "# confirm data type and shapes\n",
    "print characters_shuffle.shape\n",
    "print type(X_train[0,0]), type(y_train[0])\n",
    "print X_train.shape, y_train.shape"
   ]
  },
  {
   "cell_type": "code",
   "execution_count": 96,
   "metadata": {
    "collapsed": false
   },
   "outputs": [],
   "source": [
    "def exp_decay(global_step):\n",
    "    return tf.train.exponential_decay(0.1, global_step, 100, 0.50)"
   ]
  },
  {
   "cell_type": "code",
   "execution_count": 170,
   "metadata": {
    "collapsed": false,
    "scrolled": true
   },
   "outputs": [
    {
     "name": "stdout",
     "output_type": "stream",
     "text": [
      "Step #1, avg. loss: 5.99664\n",
      "Step #1001, avg. loss: 5.07063\n",
      "Step #2001, epoch #1, avg. loss: 2.76121\n",
      "Step #3001, epoch #2, avg. loss: 1.86523\n",
      "Step #4001, epoch #3, avg. loss: 1.45846\n",
      "Step #5001, epoch #4, avg. loss: 1.18731\n",
      "Step #6001, epoch #4, avg. loss: 0.98884\n",
      "Step #7001, epoch #5, avg. loss: 0.82978\n",
      "Step #8001, epoch #6, avg. loss: 0.72041\n",
      "Step #9001, epoch #7, avg. loss: 0.63975\n",
      "Accuracy: 0.827284\n"
     ]
    }
   ],
   "source": [
    "# Start with a DNN and try to overfit\n",
    "n_classes = len(set(labels))\n",
    "classifier = skflow.TensorFlowDNNClassifier(hidden_units=[500,500,500],\n",
    "                                            n_classes=n_classes,\n",
    "                                            steps=10000,\n",
    "#                                             learning_rate=exp_decay,\n",
    "                                           )\n",
    "\n",
    "# Fit and predict.\n",
    "classifier.fit(X_train, y_train)\n",
    "y_pred = classifier.predict(X_train)\n",
    "score = metrics.accuracy_score(y_train, y_pred)\n",
    "print('Accuracy: {0:f}'.format(score))"
   ]
  },
  {
   "cell_type": "code",
   "execution_count": 171,
   "metadata": {
    "collapsed": false
   },
   "outputs": [
    {
     "name": "stdout",
     "output_type": "stream",
     "text": [
      "Accuracy: 0.718144\n"
     ]
    }
   ],
   "source": [
    "y_pred = classifier.predict(X_test)\n",
    "score = metrics.accuracy_score(y_test, y_pred)\n",
    "print('Accuracy: {0:f}'.format(score))"
   ]
  },
  {
   "cell_type": "code",
   "execution_count": 174,
   "metadata": {
    "collapsed": true
   },
   "outputs": [],
   "source": [
    "def max_pool_2x2(tensor_in):\n",
    "    return tf.nn.max_pool(tensor_in,\n",
    "                          ksize=[1, 2, 2, 1],\n",
    "                          strides=[1, 2, 2, 1],\n",
    "                          padding='SAME')\n",
    "\n",
    "def conv_model(X, y):\n",
    "    # reshape X to 4d tensor with 2nd and 3rd dimensions being image width and height\n",
    "    # final dimension being the number of color channels\n",
    "    X = tf.reshape(X, [-1, 28, 28, 1])\n",
    "    # first conv layer will compute 32 features for each 5x5 patch\n",
    "    with tf.variable_scope('conv_layer1'):\n",
    "        h_conv1 = skflow.ops.conv2d(X, n_filters=64, filter_shape=[5, 5], \n",
    "                                    bias=True, activation=tf.nn.relu)\n",
    "        h_pool1 = max_pool_2x2(h_conv1)\n",
    "    # second conv layer will compute 64 features for each 5x5 patch\n",
    "    with tf.variable_scope('conv_layer2'):\n",
    "        h_conv2 = skflow.ops.conv2d(h_pool1, n_filters=64, filter_shape=[5, 5], \n",
    "                                    bias=True, activation=tf.nn.relu)\n",
    "        h_pool2 = max_pool_2x2(h_conv2)\n",
    "        # reshape tensor into a batch of vectors\n",
    "        h_pool2_flat = tf.reshape(h_pool2, [-1, 7 * 7 * 64])\n",
    "    # densely connected layer with 1024 neurons\n",
    "    h_fc1 = skflow.ops.dnn(h_pool2_flat, [1024], activation=tf.nn.relu, keep_prob=0.5)\n",
    "    return skflow.models.logistic_regression(h_fc1, y)"
   ]
  },
  {
   "cell_type": "code",
   "execution_count": 224,
   "metadata": {
    "collapsed": false,
    "scrolled": true
   },
   "outputs": [
    {
     "name": "stdout",
     "output_type": "stream",
     "text": [
      "Step #1, avg. loss: 6.68018\n",
      "Step #2001, epoch #5, avg. loss: 1.63608\n",
      "Step #4001, epoch #10, avg. loss: 0.27099\n",
      "Step #6001, epoch #15, avg. loss: 0.24195\n",
      "Step #8001, epoch #20, avg. loss: 0.24066\n",
      "Step #10001, epoch #25, avg. loss: 0.23894\n",
      "Step #12001, epoch #30, avg. loss: 0.23957\n",
      "Step #14001, epoch #35, avg. loss: 0.23993\n",
      "Step #16001, epoch #40, avg. loss: 0.24020\n",
      "Step #18001, epoch #45, avg. loss: 0.23947\n"
     ]
    },
    {
     "ename": "KeyboardInterrupt",
     "evalue": "",
     "output_type": "error",
     "traceback": [
      "\u001b[0;31m---------------------------------------------------------------------------\u001b[0m",
      "\u001b[0;31mKeyboardInterrupt\u001b[0m                         Traceback (most recent call last)",
      "\u001b[0;32m<ipython-input-224-47d73c5f8609>\u001b[0m in \u001b[0;36m<module>\u001b[0;34m()\u001b[0m\n\u001b[1;32m      9\u001b[0m                                         learning_rate=exp_decay)\n\u001b[1;32m     10\u001b[0m \u001b[0;31m# Fit and predict.\u001b[0m\u001b[0;34m\u001b[0m\u001b[0;34m\u001b[0m\u001b[0m\n\u001b[0;32m---> 11\u001b[0;31m \u001b[0mclassifier\u001b[0m\u001b[0;34m.\u001b[0m\u001b[0mfit\u001b[0m\u001b[0;34m(\u001b[0m\u001b[0mX_train\u001b[0m\u001b[0;34m,\u001b[0m \u001b[0my_train\u001b[0m\u001b[0;34m)\u001b[0m\u001b[0;34m\u001b[0m\u001b[0m\n\u001b[0m\u001b[1;32m     12\u001b[0m \u001b[0my_pred\u001b[0m \u001b[0;34m=\u001b[0m \u001b[0mclassifier\u001b[0m\u001b[0;34m.\u001b[0m\u001b[0mpredict\u001b[0m\u001b[0;34m(\u001b[0m\u001b[0mX_test\u001b[0m\u001b[0;34m)\u001b[0m\u001b[0;34m\u001b[0m\u001b[0m\n\u001b[1;32m     13\u001b[0m \u001b[0mscore\u001b[0m \u001b[0;34m=\u001b[0m \u001b[0mmetrics\u001b[0m\u001b[0;34m.\u001b[0m\u001b[0maccuracy_score\u001b[0m\u001b[0;34m(\u001b[0m\u001b[0my_test\u001b[0m\u001b[0;34m,\u001b[0m \u001b[0my_pred\u001b[0m\u001b[0;34m)\u001b[0m\u001b[0;34m\u001b[0m\u001b[0m\n",
      "\u001b[0;32m/usr/local/lib/python2.7/site-packages/skflow/estimators/base.pyc\u001b[0m in \u001b[0;36mfit\u001b[0;34m(self, X, y, logdir)\u001b[0m\n\u001b[1;32m    212\u001b[0m                             \u001b[0mverbose\u001b[0m\u001b[0;34m=\u001b[0m\u001b[0mself\u001b[0m\u001b[0;34m.\u001b[0m\u001b[0mverbose\u001b[0m\u001b[0;34m,\u001b[0m\u001b[0;34m\u001b[0m\u001b[0m\n\u001b[1;32m    213\u001b[0m                             \u001b[0mearly_stopping_rounds\u001b[0m\u001b[0;34m=\u001b[0m\u001b[0mself\u001b[0m\u001b[0;34m.\u001b[0m\u001b[0m_early_stopping_rounds\u001b[0m\u001b[0;34m,\u001b[0m\u001b[0;34m\u001b[0m\u001b[0m\n\u001b[0;32m--> 214\u001b[0;31m                             feed_params_fn=self._data_feeder.get_feed_params)\n\u001b[0m\u001b[1;32m    215\u001b[0m         \u001b[0;32mreturn\u001b[0m \u001b[0mself\u001b[0m\u001b[0;34m\u001b[0m\u001b[0m\n\u001b[1;32m    216\u001b[0m \u001b[0;34m\u001b[0m\u001b[0m\n",
      "\u001b[0;32m/usr/local/lib/python2.7/site-packages/skflow/trainer.pyc\u001b[0m in \u001b[0;36mtrain\u001b[0;34m(self, sess, feed_dict_fn, steps, summary_writer, summaries, print_steps, verbose, early_stopping_rounds, feed_params_fn)\u001b[0m\n\u001b[1;32m    145\u001b[0m                 global_step, loss, summ, _ = sess.run(\n\u001b[1;32m    146\u001b[0m                     \u001b[0;34m[\u001b[0m\u001b[0mself\u001b[0m\u001b[0;34m.\u001b[0m\u001b[0mglobal_step\u001b[0m\u001b[0;34m,\u001b[0m \u001b[0mself\u001b[0m\u001b[0;34m.\u001b[0m\u001b[0mloss\u001b[0m\u001b[0;34m,\u001b[0m \u001b[0msummaries\u001b[0m\u001b[0;34m,\u001b[0m \u001b[0mself\u001b[0m\u001b[0;34m.\u001b[0m\u001b[0mtrainer\u001b[0m\u001b[0;34m]\u001b[0m\u001b[0;34m,\u001b[0m\u001b[0;34m\u001b[0m\u001b[0m\n\u001b[0;32m--> 147\u001b[0;31m                     feed_dict=feed_dict)\n\u001b[0m\u001b[1;32m    148\u001b[0m             \u001b[0;32melse\u001b[0m\u001b[0;34m:\u001b[0m\u001b[0;34m\u001b[0m\u001b[0m\n\u001b[1;32m    149\u001b[0m                 global_step, loss, _ = sess.run(\n",
      "\u001b[0;32m/usr/local/lib/python2.7/site-packages/tensorflow/python/client/session.pyc\u001b[0m in \u001b[0;36mrun\u001b[0;34m(self, fetches, feed_dict)\u001b[0m\n\u001b[1;32m    343\u001b[0m \u001b[0;34m\u001b[0m\u001b[0m\n\u001b[1;32m    344\u001b[0m     \u001b[0;31m# Run request and get response.\u001b[0m\u001b[0;34m\u001b[0m\u001b[0;34m\u001b[0m\u001b[0m\n\u001b[0;32m--> 345\u001b[0;31m     \u001b[0mresults\u001b[0m \u001b[0;34m=\u001b[0m \u001b[0mself\u001b[0m\u001b[0;34m.\u001b[0m\u001b[0m_do_run\u001b[0m\u001b[0;34m(\u001b[0m\u001b[0mtarget_list\u001b[0m\u001b[0;34m,\u001b[0m \u001b[0munique_fetch_targets\u001b[0m\u001b[0;34m,\u001b[0m \u001b[0mfeed_dict_string\u001b[0m\u001b[0;34m)\u001b[0m\u001b[0;34m\u001b[0m\u001b[0m\n\u001b[0m\u001b[1;32m    346\u001b[0m \u001b[0;34m\u001b[0m\u001b[0m\n\u001b[1;32m    347\u001b[0m     \u001b[0;31m# User may have fetched the same tensor multiple times, but we\u001b[0m\u001b[0;34m\u001b[0m\u001b[0;34m\u001b[0m\u001b[0m\n",
      "\u001b[0;32m/usr/local/lib/python2.7/site-packages/tensorflow/python/client/session.pyc\u001b[0m in \u001b[0;36m_do_run\u001b[0;34m(self, target_list, fetch_list, feed_dict)\u001b[0m\n\u001b[1;32m    402\u001b[0m \u001b[0;34m\u001b[0m\u001b[0m\n\u001b[1;32m    403\u001b[0m       return tf_session.TF_Run(self._session, feed_dict, fetch_list,\n\u001b[0;32m--> 404\u001b[0;31m                                target_list)\n\u001b[0m\u001b[1;32m    405\u001b[0m \u001b[0;34m\u001b[0m\u001b[0m\n\u001b[1;32m    406\u001b[0m     \u001b[0;32mexcept\u001b[0m \u001b[0mtf_session\u001b[0m\u001b[0;34m.\u001b[0m\u001b[0mStatusNotOK\u001b[0m \u001b[0;32mas\u001b[0m \u001b[0me\u001b[0m\u001b[0;34m:\u001b[0m\u001b[0;34m\u001b[0m\u001b[0m\n",
      "\u001b[0;31mKeyboardInterrupt\u001b[0m: "
     ]
    }
   ],
   "source": [
    "# Training and predicting\n",
    "def exp_decay(global_step):\n",
    "    return tf.train.exponential_decay(0.1, global_step, 200, 0.76)\n",
    "n_classes = len(set(labels))\n",
    "classifier = skflow.TensorFlowEstimator(model_fn=conv_model,\n",
    "                                        n_classes=n_classes,\n",
    "                                        batch_size=100,\n",
    "                                        steps=20000,\n",
    "                                        learning_rate=exp_decay)\n",
    "# Fit and predict.\n",
    "classifier.fit(X_train, y_train)\n",
    "y_pred = classifier.predict(X_test)\n",
    "score = metrics.accuracy_score(y_test, y_pred)\n",
    "print('Accuracy: {0:f}'.format(score))"
   ]
  },
  {
   "cell_type": "code",
   "execution_count": null,
   "metadata": {
    "collapsed": true
   },
   "outputs": [],
   "source": [
    "y_pred = classifier.predict(X_test)\n",
    "score = metrics.accuracy_score(y_test, y_pred)\n",
    "print('Accuracy: {0:f}'.format(score))"
   ]
  },
  {
   "cell_type": "code",
   "execution_count": null,
   "metadata": {
    "collapsed": true
   },
   "outputs": [],
   "source": []
  }
 ],
 "metadata": {
  "kernelspec": {
   "display_name": "Python 2",
   "language": "python",
   "name": "python2"
  },
  "language_info": {
   "codemirror_mode": {
    "name": "ipython",
    "version": 2
   },
   "file_extension": ".py",
   "mimetype": "text/x-python",
   "name": "python",
   "nbconvert_exporter": "python",
   "pygments_lexer": "ipython2",
   "version": "2.7.11"
  }
 },
 "nbformat": 4,
 "nbformat_minor": 0
}
